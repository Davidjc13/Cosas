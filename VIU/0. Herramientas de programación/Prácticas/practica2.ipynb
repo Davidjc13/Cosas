{
 "cells": [
  {
   "cell_type": "markdown",
   "metadata": {
    "vscode": {
     "languageId": "plaintext"
    }
   },
   "source": [
    "# Práctica 2. Datos estructurados: diccionarios y dataframes\n",
    "\n",
    "Realizado por: David Jiménez Castro"
   ]
  },
  {
   "cell_type": "markdown",
   "metadata": {},
   "source": [
    "## Diccionarios\n",
    "\n",
    "### Ejercicio 1. Frecuencia de pares\n",
    "Diseña una función dpar(M), en que, dada una lista M de números enteros\n",
    "positivos, devuelva un diccionario donde se muestre la frecuencia de aparición de los números\n",
    "pares de M."
   ]
  },
  {
   "cell_type": "markdown",
   "metadata": {},
   "source": [
    "**Respuesta**"
   ]
  },
  {
   "cell_type": "code",
   "execution_count": null,
   "metadata": {},
   "outputs": [],
   "source": [
    "def dpar(M):\n",
    "    \"\"\"Función que recibe una lista de números y devuelve un diccionario\n",
    "    con el número de veces que aparece cada número par\"\"\"\n",
    "\n",
    "    diccionario_frecuencias = {}\n",
    "\n",
    "    for numero in M:\n",
    "        # Si es impar pasamos al siguiente número\n",
    "        if numero % 2 != 0:\n",
    "            continue\n",
    "        \n",
    "        # Añadimos entrada si numero no es una clave\n",
    "        if numero not in diccionario_frecuencias.keys():\n",
    "            diccionario_frecuencias.update({numero:1})\n",
    "        else:\n",
    "            diccionario_frecuencias[numero] += 1\n",
    "\n",
    "    return diccionario_frecuencias\n"
   ]
  },
  {
   "cell_type": "markdown",
   "metadata": {},
   "source": [
    "**Comprobación**"
   ]
  },
  {
   "cell_type": "code",
   "execution_count": 5,
   "metadata": {},
   "outputs": [
    {
     "data": {
      "text/plain": [
       "{12: 3, 18: 5, 16: 2, 20: 4, 14: 3}"
      ]
     },
     "execution_count": 5,
     "metadata": {},
     "output_type": "execute_result"
    }
   ],
   "source": [
    "M = [12, 19, 19, 18, 18, 16, 18, 13, 19, 18, 12, 18, 11, 20, 14,\\\n",
    "14, 20, 20, 20, 16, 13, 15, 19, 14, 12]\n",
    "dpar(M)"
   ]
  },
  {
   "cell_type": "markdown",
   "metadata": {},
   "source": [
    "### Ejercicio 2. Temperatura ciudades\n",
    "Se tienen las temperaturas de ciudades durante los primeros 4 meses\n",
    "del año en una lista de listas, donde cada lista representa la información de una ciudad (nombre y luego las temperaturas). \n",
    "\n",
    "Diseña una función TempMaxMin(lst) en que, dada una lista de listas\n",
    "como que la que se presenta, devuelva un diccionario con los nombres de las ciudades como claves y como valores una lista con las temperaturas máxima y mínima. "
   ]
  },
  {
   "cell_type": "markdown",
   "metadata": {},
   "source": [
    "**Respuesta**"
   ]
  },
  {
   "cell_type": "code",
   "execution_count": 7,
   "metadata": {},
   "outputs": [],
   "source": [
    "def TempMaxMin(lst):\n",
    "    \"\"\"Función que recibe una lista con el nombre de la ciudad en la\n",
    "    primera posición y sus temperaturas en las siguientes y devuelve\n",
    "    un diccionario con el nombre como clave y como valor una lista\n",
    "    con la temperatura máxima y la mínima\"\"\"\n",
    "\n",
    "    ciudades_dict = {}\n",
    "\n",
    "    for ciudad in lst:\n",
    "        nombre_ciudad = ciudad[0]\n",
    "        temp_max = max(ciudad[1::])\n",
    "        temp_min = min(ciudad[1::])\n",
    "\n",
    "        ciudades_dict.update({nombre_ciudad:[temp_max,temp_min]})\n",
    "\n",
    "    return ciudades_dict\n",
    "\n"
   ]
  },
  {
   "cell_type": "markdown",
   "metadata": {},
   "source": [
    "**Comprobación**"
   ]
  },
  {
   "cell_type": "code",
   "execution_count": 8,
   "metadata": {},
   "outputs": [
    {
     "data": {
      "text/plain": [
       "True"
      ]
     },
     "execution_count": 8,
     "metadata": {},
     "output_type": "execute_result"
    }
   ],
   "source": [
    "lst_ciudad = [['Londres', 3.4, 6.3, 10.5, 6.8], \\\n",
    "['Oslo', -3.8, -5.0, 5.1, 4.2], ['Berlin', 7.5, 4.1, 12.3, 13.0], \\\n",
    "['Málaga', 14.7, 12.3, 19.5, 18.4]]\n",
    "M = TempMaxMin(lst_ciudad)\n",
    "M == {'Berlin': [13.0, 4.1], 'Londres': [10.5, 3.4], \\\n",
    "'Málaga': [19.5, 12.3], 'Oslo': [5.1, -5.0]}"
   ]
  },
  {
   "cell_type": "markdown",
   "metadata": {},
   "source": [
    "### Ejercicio 3. Temperaturas nevadas\n",
    "\n",
    "Se dispone de dos diccionarios. En uno de ellos (ej. dPersC) se guardan,\n",
    "como claves, nombres de personas y como valores los nombres de las ciudades donde residen; y en el otro (ej. dCiudT) se guardan, como claves, nombres de ciudades y como valores las respectivas temperaturas de esas ciudades (en ºC), medidas el día de la primera nevada del año.\n",
    "\n",
    "Diseña una función PersMayTemp(dPersC, dCiudT) en que, dados dos diccionarios como los descritos, devuelva una lista con los nombres de las personas que residen en ciudades en las cuales la temperatura estuvo por debajo de 0ºC el día de esa primera nevada de este año. La lista resultante debe estar ordenada alfabéticamente. \n",
    "\n",
    "En caso de no haber ciudades con temperaturas bajo cero, se devolverá la lista vacía."
   ]
  },
  {
   "cell_type": "markdown",
   "metadata": {},
   "source": [
    "**Respuesta**"
   ]
  },
  {
   "cell_type": "code",
   "execution_count": null,
   "metadata": {},
   "outputs": [],
   "source": [
    "def PersMayTemp(dPersC, dCiudT:dict):\n",
    "    \"\"\"Función que recibe dos diccionarios. \n",
    "    El primero tiene por clave el nombre de personas y valor el nombre\n",
    "    de las ciudades en las que residen.\n",
    "    El segundo tiene por clave el nombre de la ciudad y como valores\n",
    "    las respectivas temperaturas de las ciudades en la primera nevada.\n",
    "    Se devuelve una lista con el nombre de las personas que residen en las\n",
    "    ciudades las cuales cuando nevó por primera vez la temperatura estaba por\n",
    "    debajo de 0. Además la lista está ordenada alfabéticamente.\n",
    "    Si no hay ciudades se devuelve una lista vacía\n",
    "    \"\"\"\n",
    "    nombres = []\n",
    "    ciudades = []\n",
    "    for key,value in dCiudT.items():\n",
    "        if value < 0:\n",
    "            ciudades.append(key)\n",
    "\n",
    "    for key, value in dPersC.items():\n",
    "        for ciudad in ciudades:\n",
    "            # Nos aseguramos de que no se repita el nombre\n",
    "            # de las personas:\n",
    "            if ciudad in value and key not in nombres:\n",
    "                nombres.append(key)\n",
    "\n",
    "    return sorted(nombres)"
   ]
  },
  {
   "cell_type": "markdown",
   "metadata": {},
   "source": [
    "**Comprobación**"
   ]
  },
  {
   "cell_type": "code",
   "execution_count": 20,
   "metadata": {},
   "outputs": [
    {
     "name": "stdout",
     "output_type": "stream",
     "text": [
      "['Carlos', 'Ernesto', 'Puyol', 'Sergi']\n",
      "[]\n"
     ]
    }
   ],
   "source": [
    "dCi = {'Manchester': 1.1, 'Madrid': -8.9, 'Gava': 4, \\\n",
    "'Pobla de Segur': -5.6, 'Lleida': -3.2, 'Elche': 2.1, \\\n",
    "'Burgos': -6.0, 'Sant Boi': 4.5}\n",
    "dPe = {'Pepe': 'Manchester', 'Lionel': 'Gava', 'Mike': 'Sant Boi', \\\n",
    "'Puyol': 'Pobla de Segur', 'Jaime': 'Elche', 'Sergi': 'Lleida',\\\n",
    "'Ernesto': 'Madrid', 'Carlos': 'Burgos'}\n",
    "print(PersMayTemp(dPe, dCi))\n",
    "print(PersMayTemp({}, {}))"
   ]
  },
  {
   "cell_type": "markdown",
   "metadata": {},
   "source": [
    "### Ejercicio 4. Hipertensión\n",
    "Se dispone de un diccionario de personas con su presión arterial. En cada elemento del diccionario la clave es el nombre de la persona y el valor es una lista con la edad y las presiones sistólica (alta) y diastólica (baja). \n",
    "\n",
    "Si consideramos que una persona sufre de hipertensión si la presión sistólica es mayor o igual a 140 mmHg o la diastólica es mayor o igual a 90 mmHg.\n",
    "\n",
    "Diseña una función lst_hiper(dic, edad) en que, dado un diccionario dic como el descrito y una edad, devuelva la lista de los nombres de las personas menores de esa edad que sufren hipertensión arterial."
   ]
  },
  {
   "cell_type": "markdown",
   "metadata": {},
   "source": [
    "**Respuesta**"
   ]
  },
  {
   "cell_type": "code",
   "execution_count": 33,
   "metadata": {},
   "outputs": [],
   "source": [
    "def lst_hiper(dicc, edad):\n",
    "    \"\"\"Función que recibe un diccionario con el nombre como clave y\n",
    "    valor una lista con la edad, presión sistólica y diastólica, devuelve\n",
    "    una lista con los nombres de las personas con hipertensión\"\"\"\n",
    "\n",
    "    nombres = []\n",
    "\n",
    "    for key, value in dicc.items():\n",
    "        if value[0] < edad and value[1] >= 140 and value[2] >= 90:\n",
    "            nombres.append(key)\n",
    "\n",
    "    return sorted(nombres)"
   ]
  },
  {
   "cell_type": "markdown",
   "metadata": {},
   "source": [
    "**Comprobación**"
   ]
  },
  {
   "cell_type": "code",
   "execution_count": 34,
   "metadata": {},
   "outputs": [
    {
     "name": "stdout",
     "output_type": "stream",
     "text": [
      "[]\n",
      "['Luis', 'Nuria']\n"
     ]
    }
   ],
   "source": [
    "dpers = {'Maria': [40, 135, 90],'Nuria': [63, 141, 92], \\\n",
    "'Jose': [47, 110, 59], 'Luis': [49, 146, 94], \\\n",
    "'Oriol': [52, 130, 89], 'Carlos': [65, 125, 89], \\\n",
    "'Pepe': [70, 130, 92] }\n",
    "print(lst_hiper(dpers, 45))\n",
    "print(lst_hiper(dpers, 70))"
   ]
  },
  {
   "cell_type": "markdown",
   "metadata": {},
   "source": [
    "### Ejercicio 5. Nivel de potasio en sangre\n",
    "\n",
    "Se tiene un diccionario con los valores de concentración de potasio\n",
    "en sangre ([K+]) de un grupo pacientes medidos antes de entrar a terapia de hemodiálisis. La clave es el nombre del paciente y el valor es la [K+] (en mmol/L). \n",
    "\n",
    "Además, se tiene una lista del tipo [valor1, valor2, valor3, valor4] con los distintos valores que clasifican la condición clínica en que\n",
    "están los pacientes, de acuerdo a las concentraciones de potasio en sangre ([K+]).\n",
    "\n",
    "Estos valores dependen del tipo de población (niños, adultos, etc.).\n",
    "\n",
    "La condición clínica del paciente sigue el siguiente criterio de clasificación:\n",
    "- Si el valor de [K+] es menor que valor1 indica 'hipokalemia crítica',\n",
    "- si es mayor o igual al valor1 y menor que el valor2 sería 'hipokalemia leve',\n",
    "- si está entre valor2 y valor3 (ambos inclusive) indica 'normal',\n",
    "- si es mayor que valor3 y menor o igual que valor4 es 'hiperkalemia moderada'\n",
    "- y valores mayores que valor4 sería 'hiperkalemia severa'.\n",
    "\n",
    "Diseña una función nivelKsang(dK, lst) en que, dado un diccionario dK que tiene como clave el nombre de un paciente y como valor su nivel de [K+] en sangre, y una lista lst con 4 valores de clasificación, como los descritos, devuelva un diccionario que tenga como claves los nombres de los pacientes y como valores su clasificación, de acuerdo a los niveles de [K+] en sangre."
   ]
  },
  {
   "cell_type": "markdown",
   "metadata": {},
   "source": [
    "**Respuesta**"
   ]
  },
  {
   "cell_type": "code",
   "execution_count": 42,
   "metadata": {},
   "outputs": [],
   "source": [
    "def nivelKsang(dK,lst):\n",
    "    \"\"\"Función que recibe un diccionario {nombre paciente: nivel K+}\n",
    "    y una lista con 5 valores que permitan clasificar el estado del\n",
    "    paciente y devuelve un diccionario {nombre: classificación}\"\"\"\n",
    "\n",
    "    pacientes = {}\n",
    "\n",
    "    for key,value in dK.items():\n",
    "        if value < lst[0]:\n",
    "            level = 'hipokalemia crítica'\n",
    "        elif value >= lst[0] and value < lst[1]:\n",
    "            level = 'hipokalemia leve'\n",
    "        elif value >= lst[1] and value <= lst[2]:\n",
    "            level = 'normal'\n",
    "        elif value > lst[2] and value <= lst[3]:\n",
    "            level = 'hiperkalemia moderada'\n",
    "        else:\n",
    "            level = 'hiperkalemia severa'\n",
    "\n",
    "        pacientes.update({key:level})\n",
    "\n",
    "    return pacientes\n"
   ]
  },
  {
   "cell_type": "markdown",
   "metadata": {},
   "source": [
    "**Comprobación**"
   ]
  },
  {
   "cell_type": "code",
   "execution_count": 44,
   "metadata": {},
   "outputs": [
    {
     "data": {
      "text/plain": [
       "True"
      ]
     },
     "execution_count": 44,
     "metadata": {},
     "output_type": "execute_result"
    }
   ],
   "source": [
    "dK1 = {'Luis': 2.2, 'Carlos': 7.0, 'Laia': 4.0, 'Mikel': 5.5, \\\n",
    "'Jordi': 5.2, 'Anna': 3.6, 'Joe': 7.2}\n",
    "ls1 = [2.0, 3.5, 5.2, 7.0]\n",
    "dic = nivelKsang(dK1, ls1)\n",
    "dic == {'Luis': 'hipokalemia leve', \\\n",
    "'Carlos': 'hiperkalemia moderada', 'Laia': 'normal', \\\n",
    "'Mikel': 'hiperkalemia moderada', 'Jordi': 'normal', \\\n",
    "'Anna': 'normal', 'Joe': 'hiperkalemia severa'}\n"
   ]
  },
  {
   "cell_type": "markdown",
   "metadata": {},
   "source": [
    "### Ejercicio 6. Temperatura ciudades en DataFrame\n",
    "\n",
    "A partir de lst_ciudad de las temperaturas de las ciudades de los primeros 4 meses del año del ejercicio 2:\n",
    "\n",
    "1. Diseña un código para crear un objeto DataFrame que contenga en sus columnas: 'Ciudad','Enero', 'Febrero', 'Marzo', 'Abril' y los datos sean los valores de las listas de ciudades de lst_ciudad. Agregar como nombre del DataFrame: 'Temperatura ciudades'\n",
    "2. Escribe un código para agregar la temperatura mínima, máxima, media y desviación estándar de los 4 primeros meses del año al DataFrame anterior."
   ]
  },
  {
   "cell_type": "markdown",
   "metadata": {},
   "source": [
    "**Respuesta**"
   ]
  },
  {
   "cell_type": "code",
   "execution_count": 57,
   "metadata": {},
   "outputs": [
    {
     "name": "stdout",
     "output_type": "stream",
     "text": [
      "    Ciudad  Enero  Febrero  Marzo  Abril\n",
      "0  Londres    3.4      6.3   10.5    6.8\n",
      "1     Oslo   -3.8     -5.0    5.1    4.2\n",
      "2   Berlín    7.5      4.1   12.3   13.0\n",
      "3   Málaga   14.7     12.3   19.5   18.4\n"
     ]
    }
   ],
   "source": [
    "# Apartado 1:\n",
    "import pandas as pd\n",
    "# Creamos el diccionario {nombre columna:valor}\n",
    "data = {\n",
    "    \"Ciudad\": [\"Londres\", \"Oslo\", \"Berlín\", \"Málaga\"],\n",
    "    \"Enero\": [3.4, -3.8, 7.5, 14.7],\n",
    "    \"Febrero\": [6.3, -5.0, 4.1, 12.3],\n",
    "    \"Marzo\": [10.5, 5.1, 12.3, 19.5],\n",
    "    \"Abril\": [6.8, 4.2, 13.0, 18.4]\n",
    "}\n",
    "\n",
    "temperatura_ciudades = pd.DataFrame(data)\n",
    "# Mostramos el dataframe:\n",
    "print(temperatura_ciudades)"
   ]
  },
  {
   "cell_type": "code",
   "execution_count": 58,
   "metadata": {},
   "outputs": [
    {
     "data": {
      "text/html": [
       "<div>\n",
       "<style scoped>\n",
       "    .dataframe tbody tr th:only-of-type {\n",
       "        vertical-align: middle;\n",
       "    }\n",
       "\n",
       "    .dataframe tbody tr th {\n",
       "        vertical-align: top;\n",
       "    }\n",
       "\n",
       "    .dataframe thead th {\n",
       "        text-align: right;\n",
       "    }\n",
       "</style>\n",
       "<table border=\"1\" class=\"dataframe\">\n",
       "  <thead>\n",
       "    <tr style=\"text-align: right;\">\n",
       "      <th></th>\n",
       "      <th>Ciudad</th>\n",
       "      <th>Enero</th>\n",
       "      <th>Febrero</th>\n",
       "      <th>Marzo</th>\n",
       "      <th>Abril</th>\n",
       "      <th>Min</th>\n",
       "      <th>Max</th>\n",
       "      <th>Media</th>\n",
       "      <th>StdDev</th>\n",
       "    </tr>\n",
       "  </thead>\n",
       "  <tbody>\n",
       "    <tr>\n",
       "      <th>0</th>\n",
       "      <td>Londres</td>\n",
       "      <td>3.4</td>\n",
       "      <td>6.3</td>\n",
       "      <td>10.5</td>\n",
       "      <td>6.8</td>\n",
       "      <td>3.4</td>\n",
       "      <td>10.5</td>\n",
       "      <td>6.816667</td>\n",
       "      <td>2.908274</td>\n",
       "    </tr>\n",
       "    <tr>\n",
       "      <th>1</th>\n",
       "      <td>Oslo</td>\n",
       "      <td>-3.8</td>\n",
       "      <td>-5.0</td>\n",
       "      <td>5.1</td>\n",
       "      <td>4.2</td>\n",
       "      <td>-5.0</td>\n",
       "      <td>5.1</td>\n",
       "      <td>0.100000</td>\n",
       "      <td>4.726521</td>\n",
       "    </tr>\n",
       "    <tr>\n",
       "      <th>2</th>\n",
       "      <td>Berlín</td>\n",
       "      <td>7.5</td>\n",
       "      <td>4.1</td>\n",
       "      <td>12.3</td>\n",
       "      <td>13.0</td>\n",
       "      <td>4.1</td>\n",
       "      <td>13.0</td>\n",
       "      <td>9.000000</td>\n",
       "      <td>3.940389</td>\n",
       "    </tr>\n",
       "    <tr>\n",
       "      <th>3</th>\n",
       "      <td>Málaga</td>\n",
       "      <td>14.7</td>\n",
       "      <td>12.3</td>\n",
       "      <td>19.5</td>\n",
       "      <td>18.4</td>\n",
       "      <td>12.3</td>\n",
       "      <td>19.5</td>\n",
       "      <td>16.116667</td>\n",
       "      <td>3.142407</td>\n",
       "    </tr>\n",
       "  </tbody>\n",
       "</table>\n",
       "</div>"
      ],
      "text/plain": [
       "    Ciudad  Enero  Febrero  Marzo  Abril   Min   Max      Media    StdDev\n",
       "0  Londres    3.4      6.3   10.5    6.8   3.4  10.5   6.816667  2.908274\n",
       "1     Oslo   -3.8     -5.0    5.1    4.2  -5.0   5.1   0.100000  4.726521\n",
       "2   Berlín    7.5      4.1   12.3   13.0   4.1  13.0   9.000000  3.940389\n",
       "3   Málaga   14.7     12.3   19.5   18.4  12.3  19.5  16.116667  3.142407"
      ]
     },
     "execution_count": 58,
     "metadata": {},
     "output_type": "execute_result"
    }
   ],
   "source": [
    "# Apartado 2:\n",
    "import numpy as np\n",
    "\n",
    "temperatura_ciudades['Min'] = temperatura_ciudades.iloc[:,1::].min(axis=1)\n",
    "temperatura_ciudades['Max'] = temperatura_ciudades.iloc[:,1::].max(axis=1)\n",
    "temperatura_ciudades['Media'] = temperatura_ciudades.iloc[:,1::].mean(axis=1)\n",
    "temperatura_ciudades['StdDev'] = temperatura_ciudades.iloc[:,1::].std(axis=1)\n",
    "\n",
    "temperatura_ciudades\n"
   ]
  },
  {
   "cell_type": "markdown",
   "metadata": {},
   "source": [
    "### Ejercicio 7. Base de datos cardíaca.\n",
    "\n",
    "En este ejercicio se pide que se lea o cargue la base de datos desde heart.csv a un objeto DataFrame\n",
    "(por ejemplo, dfCardio) y se presenten los siguientes resultados:\n",
    "1. Mostrar las primeras 10 instancias (filas) del DataFrame.\n",
    "2. Calcular el número (conteo) de hombres y mujeres.\n",
    "3. Calcular el número (conteo) de casos de angina de pecho inducida (atributo: exang)\n",
    "4. Hallar el DataFrame con la estadística descriptiva de la frecuencia cardiaca (thalach)\n",
    "5. Hallar un DataFrame que incluya la estadística descriptiva de la presión arterial sistólica en\n",
    "reposo (trestbps) y el colesterol (chol). (ambos en el mismo DataFrame)"
   ]
  },
  {
   "cell_type": "markdown",
   "metadata": {},
   "source": [
    "**Respuesta**"
   ]
  },
  {
   "cell_type": "code",
   "execution_count": null,
   "metadata": {},
   "outputs": [
    {
     "data": {
      "text/html": [
       "<div>\n",
       "<style scoped>\n",
       "    .dataframe tbody tr th:only-of-type {\n",
       "        vertical-align: middle;\n",
       "    }\n",
       "\n",
       "    .dataframe tbody tr th {\n",
       "        vertical-align: top;\n",
       "    }\n",
       "\n",
       "    .dataframe thead th {\n",
       "        text-align: right;\n",
       "    }\n",
       "</style>\n",
       "<table border=\"1\" class=\"dataframe\">\n",
       "  <thead>\n",
       "    <tr style=\"text-align: right;\">\n",
       "      <th></th>\n",
       "      <th>age</th>\n",
       "      <th>sex</th>\n",
       "      <th>cp</th>\n",
       "      <th>trestbps</th>\n",
       "      <th>chol</th>\n",
       "      <th>fbs</th>\n",
       "      <th>restecg</th>\n",
       "      <th>thalach</th>\n",
       "      <th>exang</th>\n",
       "      <th>oldpeak</th>\n",
       "      <th>slope</th>\n",
       "      <th>ca</th>\n",
       "      <th>thal</th>\n",
       "      <th>target</th>\n",
       "    </tr>\n",
       "  </thead>\n",
       "  <tbody>\n",
       "    <tr>\n",
       "      <th>0</th>\n",
       "      <td>63</td>\n",
       "      <td>1</td>\n",
       "      <td>3</td>\n",
       "      <td>145</td>\n",
       "      <td>233</td>\n",
       "      <td>1</td>\n",
       "      <td>0</td>\n",
       "      <td>150</td>\n",
       "      <td>0</td>\n",
       "      <td>2.3</td>\n",
       "      <td>0</td>\n",
       "      <td>0</td>\n",
       "      <td>1</td>\n",
       "      <td>1</td>\n",
       "    </tr>\n",
       "    <tr>\n",
       "      <th>1</th>\n",
       "      <td>37</td>\n",
       "      <td>1</td>\n",
       "      <td>2</td>\n",
       "      <td>130</td>\n",
       "      <td>250</td>\n",
       "      <td>0</td>\n",
       "      <td>1</td>\n",
       "      <td>187</td>\n",
       "      <td>0</td>\n",
       "      <td>3.5</td>\n",
       "      <td>0</td>\n",
       "      <td>0</td>\n",
       "      <td>2</td>\n",
       "      <td>1</td>\n",
       "    </tr>\n",
       "    <tr>\n",
       "      <th>2</th>\n",
       "      <td>41</td>\n",
       "      <td>0</td>\n",
       "      <td>1</td>\n",
       "      <td>130</td>\n",
       "      <td>204</td>\n",
       "      <td>0</td>\n",
       "      <td>0</td>\n",
       "      <td>172</td>\n",
       "      <td>0</td>\n",
       "      <td>1.4</td>\n",
       "      <td>2</td>\n",
       "      <td>0</td>\n",
       "      <td>2</td>\n",
       "      <td>1</td>\n",
       "    </tr>\n",
       "    <tr>\n",
       "      <th>3</th>\n",
       "      <td>56</td>\n",
       "      <td>1</td>\n",
       "      <td>1</td>\n",
       "      <td>120</td>\n",
       "      <td>236</td>\n",
       "      <td>0</td>\n",
       "      <td>1</td>\n",
       "      <td>178</td>\n",
       "      <td>0</td>\n",
       "      <td>0.8</td>\n",
       "      <td>2</td>\n",
       "      <td>0</td>\n",
       "      <td>2</td>\n",
       "      <td>1</td>\n",
       "    </tr>\n",
       "    <tr>\n",
       "      <th>4</th>\n",
       "      <td>57</td>\n",
       "      <td>0</td>\n",
       "      <td>0</td>\n",
       "      <td>120</td>\n",
       "      <td>354</td>\n",
       "      <td>0</td>\n",
       "      <td>1</td>\n",
       "      <td>163</td>\n",
       "      <td>1</td>\n",
       "      <td>0.6</td>\n",
       "      <td>2</td>\n",
       "      <td>0</td>\n",
       "      <td>2</td>\n",
       "      <td>1</td>\n",
       "    </tr>\n",
       "    <tr>\n",
       "      <th>5</th>\n",
       "      <td>57</td>\n",
       "      <td>1</td>\n",
       "      <td>0</td>\n",
       "      <td>140</td>\n",
       "      <td>192</td>\n",
       "      <td>0</td>\n",
       "      <td>1</td>\n",
       "      <td>148</td>\n",
       "      <td>0</td>\n",
       "      <td>0.4</td>\n",
       "      <td>1</td>\n",
       "      <td>0</td>\n",
       "      <td>1</td>\n",
       "      <td>1</td>\n",
       "    </tr>\n",
       "    <tr>\n",
       "      <th>6</th>\n",
       "      <td>56</td>\n",
       "      <td>0</td>\n",
       "      <td>1</td>\n",
       "      <td>140</td>\n",
       "      <td>294</td>\n",
       "      <td>0</td>\n",
       "      <td>0</td>\n",
       "      <td>153</td>\n",
       "      <td>0</td>\n",
       "      <td>1.3</td>\n",
       "      <td>1</td>\n",
       "      <td>0</td>\n",
       "      <td>2</td>\n",
       "      <td>1</td>\n",
       "    </tr>\n",
       "    <tr>\n",
       "      <th>7</th>\n",
       "      <td>44</td>\n",
       "      <td>1</td>\n",
       "      <td>1</td>\n",
       "      <td>120</td>\n",
       "      <td>263</td>\n",
       "      <td>0</td>\n",
       "      <td>1</td>\n",
       "      <td>173</td>\n",
       "      <td>0</td>\n",
       "      <td>0.0</td>\n",
       "      <td>2</td>\n",
       "      <td>0</td>\n",
       "      <td>3</td>\n",
       "      <td>1</td>\n",
       "    </tr>\n",
       "    <tr>\n",
       "      <th>8</th>\n",
       "      <td>52</td>\n",
       "      <td>1</td>\n",
       "      <td>2</td>\n",
       "      <td>172</td>\n",
       "      <td>199</td>\n",
       "      <td>1</td>\n",
       "      <td>1</td>\n",
       "      <td>162</td>\n",
       "      <td>0</td>\n",
       "      <td>0.5</td>\n",
       "      <td>2</td>\n",
       "      <td>0</td>\n",
       "      <td>3</td>\n",
       "      <td>1</td>\n",
       "    </tr>\n",
       "    <tr>\n",
       "      <th>9</th>\n",
       "      <td>57</td>\n",
       "      <td>1</td>\n",
       "      <td>2</td>\n",
       "      <td>150</td>\n",
       "      <td>168</td>\n",
       "      <td>0</td>\n",
       "      <td>1</td>\n",
       "      <td>174</td>\n",
       "      <td>0</td>\n",
       "      <td>1.6</td>\n",
       "      <td>2</td>\n",
       "      <td>0</td>\n",
       "      <td>2</td>\n",
       "      <td>1</td>\n",
       "    </tr>\n",
       "  </tbody>\n",
       "</table>\n",
       "</div>"
      ],
      "text/plain": [
       "   age  sex  cp  trestbps  chol  fbs  restecg  thalach  exang  oldpeak  slope  \\\n",
       "0   63    1   3       145   233    1        0      150      0      2.3      0   \n",
       "1   37    1   2       130   250    0        1      187      0      3.5      0   \n",
       "2   41    0   1       130   204    0        0      172      0      1.4      2   \n",
       "3   56    1   1       120   236    0        1      178      0      0.8      2   \n",
       "4   57    0   0       120   354    0        1      163      1      0.6      2   \n",
       "5   57    1   0       140   192    0        1      148      0      0.4      1   \n",
       "6   56    0   1       140   294    0        0      153      0      1.3      1   \n",
       "7   44    1   1       120   263    0        1      173      0      0.0      2   \n",
       "8   52    1   2       172   199    1        1      162      0      0.5      2   \n",
       "9   57    1   2       150   168    0        1      174      0      1.6      2   \n",
       "\n",
       "   ca  thal  target  \n",
       "0   0     1       1  \n",
       "1   0     2       1  \n",
       "2   0     2       1  \n",
       "3   0     2       1  \n",
       "4   0     2       1  \n",
       "5   0     1       1  \n",
       "6   0     2       1  \n",
       "7   0     3       1  \n",
       "8   0     3       1  \n",
       "9   0     2       1  "
      ]
     },
     "execution_count": 60,
     "metadata": {},
     "output_type": "execute_result"
    }
   ],
   "source": [
    "import pandas as pd\n",
    "\n",
    "heart = pd.read_csv('heart.csv')\n",
    "\n",
    "# 1. Mostrar las 10 primeras filas:\n",
    "heart.head(10) \n"
   ]
  },
  {
   "cell_type": "code",
   "execution_count": 61,
   "metadata": {},
   "outputs": [
    {
     "name": "stdout",
     "output_type": "stream",
     "text": [
      "Número de hombres: 207\n",
      "Número de mujeres: 96\n"
     ]
    }
   ],
   "source": [
    "# 2. Calcular el número de hombres y de mujeres\n",
    "\n",
    "heart_men = heart[heart['sex'] == 1]\n",
    "n_men = len(heart_men)\n",
    "n_women = len(heart) - n_men\n",
    "\n",
    "print(f\"Número de hombres: {n_men}\\nNúmero de mujeres: {n_women}\")"
   ]
  },
  {
   "cell_type": "code",
   "execution_count": 62,
   "metadata": {},
   "outputs": [
    {
     "name": "stdout",
     "output_type": "stream",
     "text": [
      "Número de anginas inducida: 99\n"
     ]
    }
   ],
   "source": [
    "# 3. Calcular el número de casos de angina de pecho inducida\n",
    "\n",
    "ang_inducidas = heart[heart['exang'] == 1]\n",
    "n_angina_inducida = len(ang_inducidas)\n",
    "\n",
    "print(f\"Número de anginas inducida: {n_angina_inducida}\")"
   ]
  },
  {
   "cell_type": "code",
   "execution_count": 66,
   "metadata": {},
   "outputs": [
    {
     "data": {
      "text/plain": [
       "count    303.000000\n",
       "mean     149.646865\n",
       "std       22.905161\n",
       "min       71.000000\n",
       "25%      133.500000\n",
       "50%      153.000000\n",
       "75%      166.000000\n",
       "max      202.000000\n",
       "Name: thalach, dtype: float64"
      ]
     },
     "execution_count": 66,
     "metadata": {},
     "output_type": "execute_result"
    }
   ],
   "source": [
    "# 4. Hallar el DataFrame con la estadística descriptiva de la frecuencia\n",
    "# cardíaca.\n",
    "\n",
    "frec_cardiaca = heart['thalach']\n",
    "estadística_descriptiva = frec_cardiaca.describe()\n",
    "estadística_descriptiva\n"
   ]
  },
  {
   "cell_type": "code",
   "execution_count": 70,
   "metadata": {},
   "outputs": [
    {
     "data": {
      "text/html": [
       "<div>\n",
       "<style scoped>\n",
       "    .dataframe tbody tr th:only-of-type {\n",
       "        vertical-align: middle;\n",
       "    }\n",
       "\n",
       "    .dataframe tbody tr th {\n",
       "        vertical-align: top;\n",
       "    }\n",
       "\n",
       "    .dataframe thead th {\n",
       "        text-align: right;\n",
       "    }\n",
       "</style>\n",
       "<table border=\"1\" class=\"dataframe\">\n",
       "  <thead>\n",
       "    <tr style=\"text-align: right;\">\n",
       "      <th></th>\n",
       "      <th>trestbps</th>\n",
       "      <th>chol</th>\n",
       "    </tr>\n",
       "  </thead>\n",
       "  <tbody>\n",
       "    <tr>\n",
       "      <th>count</th>\n",
       "      <td>303.000000</td>\n",
       "      <td>303.000000</td>\n",
       "    </tr>\n",
       "    <tr>\n",
       "      <th>mean</th>\n",
       "      <td>131.623762</td>\n",
       "      <td>246.264026</td>\n",
       "    </tr>\n",
       "    <tr>\n",
       "      <th>std</th>\n",
       "      <td>17.538143</td>\n",
       "      <td>51.830751</td>\n",
       "    </tr>\n",
       "    <tr>\n",
       "      <th>min</th>\n",
       "      <td>94.000000</td>\n",
       "      <td>126.000000</td>\n",
       "    </tr>\n",
       "    <tr>\n",
       "      <th>25%</th>\n",
       "      <td>120.000000</td>\n",
       "      <td>211.000000</td>\n",
       "    </tr>\n",
       "    <tr>\n",
       "      <th>50%</th>\n",
       "      <td>130.000000</td>\n",
       "      <td>240.000000</td>\n",
       "    </tr>\n",
       "    <tr>\n",
       "      <th>75%</th>\n",
       "      <td>140.000000</td>\n",
       "      <td>274.500000</td>\n",
       "    </tr>\n",
       "    <tr>\n",
       "      <th>max</th>\n",
       "      <td>200.000000</td>\n",
       "      <td>564.000000</td>\n",
       "    </tr>\n",
       "  </tbody>\n",
       "</table>\n",
       "</div>"
      ],
      "text/plain": [
       "         trestbps        chol\n",
       "count  303.000000  303.000000\n",
       "mean   131.623762  246.264026\n",
       "std     17.538143   51.830751\n",
       "min     94.000000  126.000000\n",
       "25%    120.000000  211.000000\n",
       "50%    130.000000  240.000000\n",
       "75%    140.000000  274.500000\n",
       "max    200.000000  564.000000"
      ]
     },
     "execution_count": 70,
     "metadata": {},
     "output_type": "execute_result"
    }
   ],
   "source": [
    "# 5. Hallar un Dataframe que incluya la estadística descriptiva\n",
    "# en presión arterial sistólica en reposo y colesterol\n",
    "\n",
    "presion_col = heart[['trestbps','chol']] \n",
    "presion_col_est = presion_col.describe()\n",
    "\n",
    "presion_col_est"
   ]
  }
 ],
 "metadata": {
  "kernelspec": {
   "display_name": "base",
   "language": "python",
   "name": "python3"
  },
  "language_info": {
   "codemirror_mode": {
    "name": "ipython",
    "version": 3
   },
   "file_extension": ".py",
   "mimetype": "text/x-python",
   "name": "python",
   "nbconvert_exporter": "python",
   "pygments_lexer": "ipython3",
   "version": "3.12.9"
  }
 },
 "nbformat": 4,
 "nbformat_minor": 2
}
