{
 "cells": [
  {
   "cell_type": "markdown",
   "metadata": {},
   "source": [
    "# Práctica 1. \n",
    "## Datos estructurados: strings y listas\n",
    "Trabajo realizado por: David Jiménez Castro"
   ]
  },
  {
   "cell_type": "markdown",
   "metadata": {},
   "source": [
    "### Ejercicio 1. Identificador válido. \n",
    "Para que los identificadores o nombres de las variables o funciones sean\n",
    "válidos deben comenzar e incluir letras a..z. (minúscula o mayúscula) o el guión bajo (_).\n",
    "Pueden incluir también números (0..9) pero que no sean el primer carácter del identificador.\n",
    "Diseña una función FirstChar(s) que, dado un string s (no vacío), nos devuelva True o False\n",
    "si el string es válido o no para identificar o dar nombre a una variable o función"
   ]
  },
  {
   "cell_type": "markdown",
   "metadata": {},
   "source": [
    "**Respuesta:**"
   ]
  },
  {
   "cell_type": "code",
   "execution_count": null,
   "metadata": {},
   "outputs": [],
   "source": [
    "def FirstChar(s):\n",
    "    \"\"\" Función que recibe un string como entrada \n",
    "    y devuelve True si el string es válido\"\"\"\n",
    "\n",
    "    # True si s no es vacío\n",
    "    if s:\n",
    "        first_char = s[0]\n",
    "        # Comprobamos que el primer caracter es válido\n",
    "        is_valid_char = first_char.isalpha() or first_char == '_' # True si es un caracter permitido\n",
    "\n",
    "        return is_valid_char\n",
    "    # Devolvemos False \n",
    "    return False \n",
    "    \n"
   ]
  },
  {
   "cell_type": "markdown",
   "metadata": {},
   "source": [
    "**Comprobación**"
   ]
  },
  {
   "cell_type": "code",
   "execution_count": 21,
   "metadata": {},
   "outputs": [
    {
     "name": "stdout",
     "output_type": "stream",
     "text": [
      "True\n",
      "True\n",
      "False\n",
      "True\n",
      "False\n",
      "False\n"
     ]
    }
   ],
   "source": [
    "print(FirstChar('paciente001'))\n",
    "print(FirstChar('P001'))\n",
    "print(FirstChar('1Pac'))\n",
    "print(FirstChar('_001'))\n",
    "print(FirstChar(':p001'))\n",
    "print(FirstChar(''))"
   ]
  },
  {
   "cell_type": "markdown",
   "metadata": {},
   "source": [
    "### Ejercicio 2: Porcentaje de vocales\n",
    "Escribe una función porcentVocal(s) en que dado un string s, la\n",
    "función devuelva el porcentaje de vocales que contiene el string. Deben considerarse vocales\n",
    "minúsculas y mayúsculas. Devolver el resultado con un decimal de precisión.\n",
    "Consideraremos que las vocales están sin tilde o acento gráfico. Se valorará prever el caso que\n",
    "se envíe como argumento un string vacío."
   ]
  },
  {
   "cell_type": "markdown",
   "metadata": {},
   "source": [
    "**Respuesta**"
   ]
  },
  {
   "cell_type": "code",
   "execution_count": null,
   "metadata": {},
   "outputs": [],
   "source": [
    "def porcentVocal(s):\n",
    "    \"\"\"Función que recibe un string y devuelve la proporción\n",
    "    de vocales en la cadena.\"\"\"\n",
    "    VOCALES = 'aeiou'\n",
    "    longitud_s = len(s)\n",
    "    contador = 0\n",
    "    \n",
    "    # El string no es vacío\n",
    "    if s:\n",
    "        for char in s:\n",
    "            if char.lower() in VOCALES:\n",
    "                contador +=1\n",
    "\n",
    "        proporcion = (contador/longitud_s)*100\n",
    "        return round(proporcion,1)\n",
    "    \n",
    "    return 0.0"
   ]
  },
  {
   "cell_type": "markdown",
   "metadata": {},
   "source": [
    "**Comprobación**"
   ]
  },
  {
   "cell_type": "code",
   "execution_count": 27,
   "metadata": {},
   "outputs": [
    {
     "name": "stdout",
     "output_type": "stream",
     "text": [
      "50.0\n",
      "66.7\n",
      "0.0\n",
      "100.0\n"
     ]
    }
   ],
   "source": [
    "print(porcentVocal('Hola'))\n",
    "print(porcentVocal('Acacia'))\n",
    "print(porcentVocal('Brrrrrrr'))\n",
    "print(porcentVocal('aAe'))"
   ]
  },
  {
   "cell_type": "markdown",
   "metadata": {},
   "source": [
    "### Ejercicio 3: Nuevo string\n",
    "Diseña una función nuevo_string (s, n) que, dado un string s y un entero\n",
    "n ≥ 0, devuelva el string resultante de repetir cada vocal de s exactamente n veces en el lugar donde se encuentra situada en s."
   ]
  },
  {
   "cell_type": "markdown",
   "metadata": {},
   "source": [
    "**Respuesta**"
   ]
  },
  {
   "cell_type": "code",
   "execution_count": null,
   "metadata": {},
   "outputs": [],
   "source": [
    "def nuevo_string(s,n):\n",
    "    \"\"\"Función que recibe una cadena s y un entero n \n",
    "    y devuelve el mismo string pero con las vocales \n",
    "    repetidas n-veces.\n",
    "    Si se da la cadena vacía se devuelve la cadena vacía\n",
    "    \"\"\"\n",
    "\n",
    "    VOCALES = 'aeiou'\n",
    "    cadena_salida = ''\n",
    "\n",
    "    for char in s:\n",
    "        if char.lower() in VOCALES:\n",
    "            cadena_salida += char*n\n",
    "        else:\n",
    "            cadena_salida += char\n",
    "\n",
    "    return cadena_salida\n"
   ]
  },
  {
   "cell_type": "markdown",
   "metadata": {},
   "source": [
    "**Comprobación**"
   ]
  },
  {
   "cell_type": "code",
   "execution_count": 34,
   "metadata": {},
   "outputs": [
    {
     "name": "stdout",
     "output_type": "stream",
     "text": [
      "Chaarleestoon\n",
      "RDT11\n",
      "H2OOO\n"
     ]
    }
   ],
   "source": [
    "print(nuevo_string('Charleston', 2))\n",
    "print(nuevo_string('RDT11', 1))\n",
    "print(nuevo_string('H2O', 3))"
   ]
  },
  {
   "cell_type": "markdown",
   "metadata": {},
   "source": [
    "### Ejercicio 4. Notas al pie de página\n",
    "Diseña una función notas_al_pie(s) que, dado un string s formado\n",
    "sólo por letras, signos de puntuación y asteriscos que indican una llamada a una nota al pie de página, devuelva un string donde cada asterisco es sustituido por un número entre paréntesis que indica el número de nota. El primer * se substituye por (1), el segundo por (2),\n",
    "etc."
   ]
  },
  {
   "cell_type": "markdown",
   "metadata": {},
   "source": [
    "**Respuesta**"
   ]
  },
  {
   "cell_type": "code",
   "execution_count": 41,
   "metadata": {},
   "outputs": [],
   "source": [
    "def notas_al_pie(s):\n",
    "    \"\"\"Función que enumera las notas a pie de página.\n",
    "    Se asume que la cadena vacía no tiene notas a pie de página.\"\"\"\n",
    "    contador = 1\n",
    "    cadena_salida = ''\n",
    "    \n",
    "    for char in s:\n",
    "        if char == '*':\n",
    "            cadena_salida += '('+str(contador)+')'\n",
    "            contador += 1\n",
    "        else:\n",
    "            cadena_salida += char\n",
    "    \n",
    "    return cadena_salida"
   ]
  },
  {
   "cell_type": "markdown",
   "metadata": {},
   "source": [
    "**Comprobación**"
   ]
  },
  {
   "cell_type": "code",
   "execution_count": 45,
   "metadata": {},
   "outputs": [
    {
     "name": "stdout",
     "output_type": "stream",
     "text": [
      "Esta es la primera nota(1); y esta la segunda(2).\n",
      "Esta frase no tiene notas. Esta otra tampoco.\n",
      "(1),(2). (3).\n",
      "(1)\n",
      "\n"
     ]
    }
   ],
   "source": [
    "print(notas_al_pie('Esta es la primera nota*; y esta la segunda*.'))\n",
    "print(notas_al_pie('Esta frase no tiene notas. Esta otra tampoco.'))\n",
    "print(notas_al_pie('*,*. *.'))\n",
    "print(notas_al_pie('*'))\n",
    "print(notas_al_pie(''))"
   ]
  },
  {
   "cell_type": "markdown",
   "metadata": {},
   "source": [
    "### Ejercicio 5. Calcula código\n",
    "Dado un string s que contiene los nombres y apellidos de una persona, diseña la función codigo(s) que devuelva el string ini + str(count), donde ini contiene las iniciales de la persona (las letras mayúsculas de s) y count es el número total de letras de sus nombres y apellidos (es decir, las letras de s sin contar caracteres blancos o espacios). "
   ]
  },
  {
   "cell_type": "markdown",
   "metadata": {},
   "source": [
    "**Respuesta**"
   ]
  },
  {
   "cell_type": "code",
   "execution_count": 50,
   "metadata": {},
   "outputs": [],
   "source": [
    "def codigo(s):\n",
    "    \"\"\"Funcion que recibe un string Nombre y apellidos de una persona\n",
    "    y devuelve el código asignado iniciales + suma de letras\"\"\"\n",
    "\n",
    "    # Si se le pasa la cadena vacía devolvemos la cadena vacía\n",
    "    if not s:\n",
    "        return ''\n",
    "    \n",
    "    ini = ''\n",
    "    suma = 0\n",
    "\n",
    "    # Separamos el string por espacios\n",
    "    palabras = s.split(' ')\n",
    "\n",
    "\n",
    "    for palabra in palabras:\n",
    "        # Por cada palabra cogemos la primera letra y la agregamos a ini\n",
    "        # Además fuerzo a que sea mayúscula para que todas las letras tengan el mismo tamaño.\n",
    "        primera_letra = palabra[0]\n",
    "        ini += primera_letra.upper()\n",
    "\n",
    "        # Ahora sumamos la longitud:\n",
    "        suma += len(palabra)\n",
    "\n",
    "    # Caculamos el codigo\n",
    "    codigo = ini + str(suma)\n",
    "\n",
    "    return codigo\n"
   ]
  },
  {
   "cell_type": "markdown",
   "metadata": {},
   "source": [
    "**Comprobación**"
   ]
  },
  {
   "cell_type": "code",
   "execution_count": 57,
   "metadata": {},
   "outputs": [
    {
     "name": "stdout",
     "output_type": "stream",
     "text": [
      "MBG20\n",
      "BFJS31\n",
      "\n",
      "GPB19\n",
      "SRG17\n"
     ]
    }
   ],
   "source": [
    "print(codigo('Mireia Belmonte García'))\n",
    "print(codigo('Bruce Frederick Joseph Springsteen'))\n",
    "print(codigo(''))\n",
    "print(codigo('Gerard Piqué Bernabéu'))\n",
    "print(codigo('Sergio Ramos García'))"
   ]
  },
  {
   "cell_type": "markdown",
   "metadata": {},
   "source": [
    "### Ejercicio 6. Contador de hidrógenos.\n",
    "Una fórmula química es una representación convencional de los\n",
    "elementos que forman un compuesto. Por ejemplo, el 1-2-butadiol sería C2H5O, que se representa con el string 'C2H5O'. También pueden aparecer elementos químicos de dos caracteres como el calcio Ca en CaCO3 ( 'CaCO3') o el hierro Fe en Fe3O4 ( 'Fe3O4'). En estos casos el segundo carácter del símbolo siempre es una minúscula. Diseña la función\n",
    "contar_hidrogenos(s) que, dado un string s con un compuesto como los descritos antes, devuelve el número de átomos de hidrógeno que contiene. Para simplificar el problema, limitaremos el número que puede seguir el símbolo de un elemento a un valor entre 2 y 9.\n"
   ]
  },
  {
   "cell_type": "markdown",
   "metadata": {},
   "source": [
    "**Respuesta**"
   ]
  },
  {
   "cell_type": "code",
   "execution_count": null,
   "metadata": {},
   "outputs": [],
   "source": [
    "def contar_hidrogenos(s):\n",
    "    \"\"\"\n",
    "    Función que dada una string representante de una fórmula química\n",
    "    devuelve el número de hidrógenos que hay. Se asume que hay entre 0 y 9\n",
    "    hidrógenos.\n",
    "    \"\"\"\n",
    "    # No hay hidrógenos en la fórmula\n",
    "    if 'H' not in s:\n",
    "        return 0\n",
    "    \n",
    "    total_hidrogenos = 0\n",
    "    for index in range(len(s)):\n",
    "        if s[index] == 'H':\n",
    "\n",
    "            # Verificamos si hay siguiente carácter  y si es un dígito\n",
    "            if index + 1 < len(s) and s[index + 1].isdigit():\n",
    "                total_hidrogenos += int(s[index + 1])\n",
    "            else:\n",
    "                total_hidrogenos += 1\n",
    "    \n",
    "    return total_hidrogenos"
   ]
  },
  {
   "cell_type": "markdown",
   "metadata": {},
   "source": [
    "**Comprobación**"
   ]
  },
  {
   "cell_type": "code",
   "execution_count": 70,
   "metadata": {},
   "outputs": [
    {
     "name": "stdout",
     "output_type": "stream",
     "text": [
      "1\n",
      "2\n",
      "5\n",
      "0\n",
      "1\n"
     ]
    }
   ],
   "source": [
    "print(contar_hidrogenos('HIO'))\n",
    "print(contar_hidrogenos('H2O'))\n",
    "print(contar_hidrogenos('C2H5O'))\n",
    "print(contar_hidrogenos('Fe3O4'))\n",
    "print(contar_hidrogenos('C2OH'))"
   ]
  },
  {
   "cell_type": "markdown",
   "metadata": {},
   "source": [
    "### Ejercicio 7.\n",
    "\n",
    "Diseña la función mediaTempRang(lst) en que, dada una lista lst de medidas de temperatura en ºC de un experimento, calcule y devuelva el valor medio de aquellas temperaturas de la lista que estén en el rango de 15 a 45 ºC, inclusive [15, 45]. Devolver el resultado redondeado a 2 cifras decimales. También considerar el caso en que ninguna medida de temperatura de la lista esté en el rango dado. En este caso la función devuelve el valor -1.\n"
   ]
  },
  {
   "cell_type": "markdown",
   "metadata": {},
   "source": [
    "**Respuesta**"
   ]
  },
  {
   "cell_type": "code",
   "execution_count": 77,
   "metadata": {},
   "outputs": [],
   "source": [
    "def mediaTempRang(lst):\n",
    "    \"\"\"\n",
    "    Función que recibe una lista de temperaturas y devuelve la media de\n",
    "    aquellas que están en el rango de (15,45)\n",
    "    \"\"\"\n",
    "    suma = 0\n",
    "    n_temperaturas = 0\n",
    "\n",
    "    for temp in lst:\n",
    "        if temp >= 15.0 and temp <= 45.0:\n",
    "            suma += temp\n",
    "            n_temperaturas += 1\n",
    "    \n",
    "    if n_temperaturas == 0:\n",
    "        # No se encontraron temperaturas dentro del rango\n",
    "        return -1\n",
    "    else:\n",
    "        temperatura_media = round(suma/n_temperaturas,2)\n",
    "        return temperatura_media\n"
   ]
  },
  {
   "cell_type": "markdown",
   "metadata": {},
   "source": [
    "**Comprobación**"
   ]
  },
  {
   "cell_type": "code",
   "execution_count": 80,
   "metadata": {},
   "outputs": [
    {
     "data": {
      "text/plain": [
       "-1"
      ]
     },
     "execution_count": 80,
     "metadata": {},
     "output_type": "execute_result"
    }
   ],
   "source": [
    "mediaTempRang([34.5, 12.9, 15, 43, 51.4, 23.4])\n",
    "mediaTempRang([45.5, 12.9, 15, 32.5, 51.4, 21.2])\n",
    "mediaTempRang([14.5, 12.6, 47.8])\n",
    "mediaTempRang([15, 16, 14, 50, 17])\n",
    "mediaTempRang([])"
   ]
  },
  {
   "cell_type": "markdown",
   "metadata": {},
   "source": [
    "### Ejercicio 8.\n",
    "El umbral de nivel de presión del sonido (sound pressure level, SPL) del oído humano es aproximadamente de 20 mP a frecuencias medias de la voz. Este valor se considera el nivel de presión de sonido (SPL) de referencia, 0 dB (20log10(20/20)). \n",
    "La función SPL_dB(P) recibe una presión acústica en mP, y devuelve su equivalente en dB.\n",
    "\n",
    "Diseñar la función detect2ndNdB(lst, N), en que dada una lista lst de valores de nivel de presión de sonido (SPL) en mP, y un valor N (dB), busque y devuelva el valor de la segunda presión SPL que sea al menos de N dB. Por ejemplo, N = 30 dB es el nivel de un susurro en el oído, N = 50 dB es el nivel de una conversación normal, N = 80 dB es el nivel de ruido en una calle con tráfico. \n",
    "\n",
    "En caso de no encontrar una segunda presión SPL se ha de devolver -1\n"
   ]
  },
  {
   "cell_type": "markdown",
   "metadata": {},
   "source": [
    "**Respuesta**  "
   ]
  },
  {
   "cell_type": "code",
   "execution_count": 4,
   "metadata": {},
   "outputs": [],
   "source": [
    "from math import log10\n",
    "def SPL_dB(P):\n",
    "    \"\"\"Función que recibe la presión acústica y devuelve su equivalente\n",
    "    en dB\"\"\"\n",
    "    return 20*log10(P/20)\n",
    "\n",
    "def detect2ndNdB(lst,N):\n",
    "    \"\"\"Función que recibe una lista de presiones y devuelve la\n",
    "    segunda presión registrada por encima del valor N (dB)\"\"\"\n",
    "    skip = True\n",
    "    for temp in lst:\n",
    "        if SPL_dB(temp) >= N:\n",
    "            if skip:\n",
    "                skip = False\n",
    "                continue\n",
    "            else:\n",
    "                return temp\n",
    "            \n",
    "    return -1\n"
   ]
  },
  {
   "cell_type": "markdown",
   "metadata": {},
   "source": [
    "**Comprobación**"
   ]
  },
  {
   "cell_type": "code",
   "execution_count": 10,
   "metadata": {},
   "outputs": [
    {
     "name": "stdout",
     "output_type": "stream",
     "text": [
      "650\n",
      "2000\n",
      "-1\n",
      "2500000.0\n",
      "-1\n"
     ]
    }
   ],
   "source": [
    "print(detect2ndNdB([90, 590, 750, 632, 650, 660, 2000, 789, 545], 30))\n",
    "print(detect2ndNdB([90,590,750,632, 650, 900, 2000, 789, 545], 33))\n",
    "print(detect2ndNdB([90,590,750,632, 630, 600, 200, 589, 545], 30))\n",
    "print(detect2ndNdB([9e3,1e4,1.1e5,2.2e5, 1.3e6, 2.5e6, 3.2e6], 83))\n",
    "print(detect2ndNdB([2000, 2450.5, 2500 , 456.7, 1567.8], 42))"
   ]
  },
  {
   "cell_type": "markdown",
   "metadata": {},
   "source": [
    "### Ejercicio 3. Primos pitagóricos.\n",
    " Diseña la función primoPitagoric2(lst) en que, dada una lista de\n",
    "números enteros positivos no repetidos, devuelva una lista con los 2 primeros números primos pitagóricos. Si no hubiera al menos 2 primos pitagóricos la función devuelve -1. \n",
    "Un número primo es pitagórico si se puede escribir como la suma de dos cuadrados. \n",
    "Por ejemplo 5 = 2² + 1² o 13 = 2² + 3². Fermat demostró que un primo pitagórico p es igual a 4k +1, para algún valor de k entero positivo. Esta condición se puede expresar como: un número primo p es pitagórico si p modulo 4 es igual a 1, es decir si el residuo de dividir p entre 4 es 1."
   ]
  },
  {
   "cell_type": "markdown",
   "metadata": {},
   "source": [
    "**Respuesta**"
   ]
  },
  {
   "cell_type": "code",
   "execution_count": 38,
   "metadata": {},
   "outputs": [],
   "source": [
    "def es_primo(n):\n",
    "    \"\"\"Función que recibe un entero y devuelve si True si es primo\"\"\"\n",
    "    if n <= 1:\n",
    "        return False\n",
    "    \n",
    "    for d in range(2,(n//2) + 1):\n",
    "        if n % d == 0:\n",
    "            return False\n",
    "    return True\n",
    "\n",
    "def primoPitagoric2(lst):\n",
    "    \"\"\"Función que recibe una lista de enteros y devuelve una lista con los dos primeros\n",
    "    números pitagóricos. Si no hubiera entonces devolvería -1\"\"\"\n",
    "\n",
    "    pitagoricos = []\n",
    "\n",
    "    for numero in lst:\n",
    "        if es_primo(numero) and numero % 4 == 1:\n",
    "            pitagoricos.append(numero)\n",
    "\n",
    "        if len(pitagoricos) == 2:\n",
    "            return pitagoricos\n",
    "\n",
    "    \n",
    "    return -1\n",
    "    \n",
    "\n"
   ]
  },
  {
   "cell_type": "markdown",
   "metadata": {},
   "source": [
    "**Comprobación**"
   ]
  },
  {
   "cell_type": "code",
   "execution_count": 40,
   "metadata": {},
   "outputs": [
    {
     "name": "stdout",
     "output_type": "stream",
     "text": [
      "[5, 13]\n",
      "[5, 13]\n",
      "[41, 53]\n",
      "-1\n",
      "[89, 97]\n"
     ]
    }
   ],
   "source": [
    "print(primoPitagoric2([3, 4, 5, 6, 7, 8, 9, 10, 11, 12, 13]))\n",
    "print(primoPitagoric2([5, 9, 13, 17, 21, 25, 29, 33, 37, 41]))\n",
    "print(primoPitagoric2([41, 45, 49, 53, 57, 61, 65, 69, 73, 77, 81]))\n",
    "print(primoPitagoric2([3, 4, 5, 6, 7, 8, 9, 10]))\n",
    "print(primoPitagoric2([81, 85, 89, 93, 97, 101, 105, 109, 113, 117, 121]))"
   ]
  },
  {
   "cell_type": "markdown",
   "metadata": {},
   "source": [
    "### Ejercicio 10. Contar positivos\n",
    "Dada una lista de listas que representa una matriz cuadrada m, diseña una\n",
    "función contar_pos(m), que cuente los números positivos que tiene. "
   ]
  },
  {
   "cell_type": "markdown",
   "metadata": {},
   "source": [
    "**Respuesta**"
   ]
  },
  {
   "cell_type": "code",
   "execution_count": 43,
   "metadata": {},
   "outputs": [],
   "source": [
    "def contar_pos(m):\n",
    "    \"\"\"Función que recibe una matriz cuadrada y devuelve la cantidad\n",
    "    de números positivos que hay.\"\"\"\n",
    "    contador = 0\n",
    "    for fila in m:\n",
    "        for num in fila:\n",
    "            if num >= 0:\n",
    "                contador +=1\n",
    "\n",
    "    return contador"
   ]
  },
  {
   "cell_type": "markdown",
   "metadata": {},
   "source": [
    "**Comprobación**"
   ]
  },
  {
   "cell_type": "code",
   "execution_count": 45,
   "metadata": {},
   "outputs": [
    {
     "data": {
      "text/plain": [
       "6"
      ]
     },
     "execution_count": 45,
     "metadata": {},
     "output_type": "execute_result"
    }
   ],
   "source": [
    "contar_pos([[1, -2, 3],[-4,5,6],[7,8,-9]])"
   ]
  },
  {
   "cell_type": "markdown",
   "metadata": {},
   "source": [
    "### Ejercicio 10. Mayor densidad\n",
    "Se dispone del nombre, masa y volumen de un planeta almacenado en una\n",
    "lista: [nombre, masa, volumen]. Además, se tiene una lista de planetas como una lista de listas de la forma: [[nombre1, masa1, volumen1], [nombre2, masa2, volumen2], ...].\n",
    "Diseña la función mas_denso(Lst), en que dada una lista de planetas Lst, nos devuelva el nombre del planeta más denso de esa lista. Si hubiera más de uno con la misma densidad, se devuelve el primero que encuentre en la lista original. "
   ]
  },
  {
   "cell_type": "markdown",
   "metadata": {},
   "source": [
    "**Respuesta**"
   ]
  },
  {
   "cell_type": "code",
   "execution_count": 46,
   "metadata": {},
   "outputs": [],
   "source": [
    "def mas_denso(lst):\n",
    "    \"\"\"Función que recibe una lista de listas que contienen el nombre,\n",
    "    masa y volumen de un planeta y devuelve el nombre del planeta más denso\"\"\"\n",
    "\n",
    "    planeta_denso = ''\n",
    "    max_densidad = 0.0\n",
    "    n_planetas = len(lst)\n",
    "\n",
    "    for index in range(n_planetas):\n",
    "        densidad = lst[index][1]/lst[index][2]\n",
    "\n",
    "        if densidad > max_densidad:\n",
    "            max_densidad = densidad\n",
    "            planeta_denso = lst[index][0]\n",
    "\n",
    "    return planeta_denso"
   ]
  },
  {
   "cell_type": "markdown",
   "metadata": {},
   "source": [
    "**Comprobación**"
   ]
  },
  {
   "cell_type": "code",
   "execution_count": 48,
   "metadata": {},
   "outputs": [
    {
     "data": {
      "text/plain": [
       "'Tierra'"
      ]
     },
     "execution_count": 48,
     "metadata": {},
     "output_type": "execute_result"
    }
   ],
   "source": [
    "mas_denso([['Marte', 1, 2], ['Tierra', 2, 3], ['Venus', 1, 3]])"
   ]
  },
  {
   "cell_type": "markdown",
   "metadata": {},
   "source": [
    "### Ejercicio 12. Fútbol\n",
    "\n",
    "Se dispone en una lista (equipo) de listas (jugadores) con los registros de los jugadores. En cada registro se guarda: su número de dorsal, nombre, si es comunitario o no (booleano, comunitario: True), edad y la distancia recorrida en kilómetros en los partidos jugados en el último mes.\n",
    "\n",
    "No todos los jugadores han jugado todos los partidos del mes, por lo que aparecerá solo la distancia recorrida de los partidos jugados.\n",
    "Diseñar una función jugComKm(equipo, x) en que, dada una lista de un equipo de futbol y un número x de kilómetros recorridos, nos devuelva la lista de nombres de los jugadores comunitarios que han recorrido de media (promedio) más de x km en los partidos jugados.\n",
    "\n",
    "De no encontrarse jugadores con este recorrido, se devolverá la lista vacía.\n",
    "\n",
    "Notas: pudiera haber algún jugador sin partidos jugados y en este caso el promedio lo\n",
    "consideramos 0."
   ]
  },
  {
   "cell_type": "markdown",
   "metadata": {},
   "source": [
    "**Respuesta**"
   ]
  },
  {
   "cell_type": "code",
   "execution_count": 80,
   "metadata": {},
   "outputs": [],
   "source": [
    "def jugComKm(lst,x):\n",
    "    \"\"\"Función que recibe una lista (equipo) formada por listas (jugadores)\n",
    "    con formato (dorsal, nombre, si es comunitario, edad, distancia recorrida)\n",
    "    y devuelve los jugadores comunitarios que han recorrido más de x km\"\"\"\n",
    "\n",
    "    nombres_jugadores = []\n",
    "    for jugador in lst:\n",
    "        promedio_jugador = sum(jugador[4::])/(len(jugador)-4)\n",
    "        if promedio_jugador > x and jugador[2]:\n",
    "            nombres_jugadores.append(jugador[1])\n",
    "    \n",
    "    # Usamos la función sorted para ordenar alfabéticamente (asc)\n",
    "    if nombres_jugadores:    \n",
    "        nombres_jugadores = sorted(nombres_jugadores)\n",
    "    \n",
    "    return nombres_jugadores"
   ]
  },
  {
   "cell_type": "markdown",
   "metadata": {},
   "source": [
    "**Comprobación**"
   ]
  },
  {
   "cell_type": "code",
   "execution_count": 82,
   "metadata": {},
   "outputs": [
    {
     "name": "stdout",
     "output_type": "stream",
     "text": [
      "['Pedri', 'Ramos']\n",
      "['Pedri']\n",
      "[]\n",
      "['Iago', 'Pedri', 'Pique', 'Ramos']\n",
      "['Iago', 'Odriozola', 'Pedri', 'Pique', 'Ramos', 'Saul']\n"
     ]
    }
   ],
   "source": [
    "lst_equipo = [[3, 'Pique', True, 33, 10.2, 9.0], \n",
    "[4, 'Ramos', True, 34, 11.0, 11.1, 9.8, 8.5], \n",
    "[6, 'Koke', True, 27, 7.5, 9.6, 10.3, 6.5, 5.6], \n",
    "[7, 'Joao', True, 25, 10.5, 8.4, 9.0, 8.6], \n",
    "[8, 'Saul', True, 24, 9.5, 8.9, 10.0, 9.6], \n",
    "[9, 'Suarez', False, 33, 8.6, 7.5], \n",
    "[10, 'Lionel', False, 33, 10.0, 11.1, 9.8, 8.5,10.1], \n",
    "[19, 'Odriozola', True, 25, 9.5], \n",
    "[14, 'Araujo', False, 21, 8.9, 9.5], \n",
    "[15, 'Valverde', False, 22, 9.9, 10.2], \n",
    "[16, 'Pedri', True, 18, 10.5, 11, 9.5, 10.6], \n",
    "[22, 'Hermoso', False, 23, 10, 7.5, 6.6], \n",
    "[23, 'Iago', True, 33, 11.1, 9.0, 9.3, 8.8]]\n",
    "print(jugComKm(lst_equipo, 10))\n",
    "print(jugComKm(lst_equipo, 10.2))\n",
    "print(jugComKm(lst_equipo, 10.5))\n",
    "print(jugComKm(lst_equipo, 9.5))\n",
    "print(jugComKm(lst_equipo, 9.4))"
   ]
  }
 ],
 "metadata": {
  "kernelspec": {
   "display_name": "base",
   "language": "python",
   "name": "python3"
  },
  "language_info": {
   "codemirror_mode": {
    "name": "ipython",
    "version": 3
   },
   "file_extension": ".py",
   "mimetype": "text/x-python",
   "name": "python",
   "nbconvert_exporter": "python",
   "pygments_lexer": "ipython3",
   "version": "3.12.9"
  }
 },
 "nbformat": 4,
 "nbformat_minor": 2
}
